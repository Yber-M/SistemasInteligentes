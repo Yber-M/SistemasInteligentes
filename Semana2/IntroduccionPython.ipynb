{
  "nbformat": 4,
  "nbformat_minor": 0,
  "metadata": {
    "colab": {
      "provenance": []
    },
    "kernelspec": {
      "name": "python3",
      "display_name": "Python 3"
    },
    "language_info": {
      "name": "python"
    }
  },
  "cells": [
    {
      "cell_type": "markdown",
      "source": [
        "1. Crea dos variables, una para un numero entero y ota para un número real. Imprime ambos números"
      ],
      "metadata": {
        "id": "8JjGD1nO3_nz"
      }
    },
    {
      "cell_type": "code",
      "source": [
        "entero = 10\n",
        "real = 3.14\n",
        "print(\"Número entero:\", entero)\n",
        "print(\"Número real:\", real)\n"
      ],
      "metadata": {
        "colab": {
          "base_uri": "https://localhost:8080/"
        },
        "id": "BZd1UAKP4TKB",
        "outputId": "df7ea9a5-9531-46ac-c98c-ed6179d1ae1c"
      },
      "execution_count": null,
      "outputs": [
        {
          "output_type": "stream",
          "name": "stdout",
          "text": [
            "Número entero: 10\n",
            "Número real: 3.14\n"
          ]
        }
      ]
    },
    {
      "cell_type": "markdown",
      "source": [
        "Ejercicio 1.2: Calcula el resultado de una suma, resta, multiplicación y división entre los dos números creados anteriormente. Imprime los resultados."
      ],
      "metadata": {
        "id": "tQhzn21o4Ycu"
      }
    },
    {
      "cell_type": "code",
      "source": [
        "suma = entero + real\n",
        "resta = entero - real\n",
        "multiplicacion = entero * real\n",
        "division = entero / real\n",
        "\n",
        "print(\"Suma:\", suma)\n",
        "print(\"Resta:\", resta)\n",
        "print(\"Multiplicación:\", multiplicacion)\n",
        "print(\"División:\", division)\n"
      ],
      "metadata": {
        "colab": {
          "base_uri": "https://localhost:8080/"
        },
        "id": "E2NqBr_24dfh",
        "outputId": "a1ba4048-dec5-45c5-b2b0-e08dcde2f331"
      },
      "execution_count": null,
      "outputs": [
        {
          "output_type": "stream",
          "name": "stdout",
          "text": [
            "Suma: 13.14\n",
            "Resta: 6.859999999999999\n",
            "Multiplicación: 31.400000000000002\n",
            "División: 3.184713375796178\n"
          ]
        }
      ]
    },
    {
      "cell_type": "markdown",
      "source": [
        "Ejercicio 2.1: Crea una variable que almacene tu nombre y otra que almacene tu apellido. Concatenalos en una sola cadena y imprímela."
      ],
      "metadata": {
        "id": "7NEmuNI24i-S"
      }
    },
    {
      "cell_type": "code",
      "source": [
        "nombre = \"Juan\"\n",
        "apellido = \"Pérez\"\n",
        "nombre_completo = nombre + \" \" + apellido\n",
        "print(\"Nombre completo:\", nombre_completo)\n"
      ],
      "metadata": {
        "colab": {
          "base_uri": "https://localhost:8080/"
        },
        "id": "m5GopKbD4oz4",
        "outputId": "d6ba77d1-6bb1-4d70-bea0-66da1040b263"
      },
      "execution_count": null,
      "outputs": [
        {
          "output_type": "stream",
          "name": "stdout",
          "text": [
            "Nombre completo: Juan Pérez\n"
          ]
        }
      ]
    },
    {
      "cell_type": "markdown",
      "source": [
        "Ejercicio 2.2: Convierte tu nombre completo a mayúsculas y minúsculas e imprímelos."
      ],
      "metadata": {
        "id": "JdMVD_a14uGg"
      }
    },
    {
      "cell_type": "code",
      "source": [
        "print(\"En mayúsculas:\", nombre_completo.upper())\n",
        "print(\"En minúsculas:\", nombre_completo.lower())\n"
      ],
      "metadata": {
        "colab": {
          "base_uri": "https://localhost:8080/"
        },
        "id": "oOL9XSsM4yYb",
        "outputId": "f22472cd-1c6f-467c-f86a-ce5800f4ddf3"
      },
      "execution_count": null,
      "outputs": [
        {
          "output_type": "stream",
          "name": "stdout",
          "text": [
            "En mayúsculas: JUAN PÉREZ\n",
            "En minúsculas: juan pérez\n"
          ]
        }
      ]
    },
    {
      "cell_type": "markdown",
      "source": [
        "Ejercicio 3.1: Crea una lista con los números del 1 al 5 e imprímela. Luego, agrega el número 6 al final de la lista."
      ],
      "metadata": {
        "id": "sYZ6DtTE43Z3"
      }
    },
    {
      "cell_type": "code",
      "source": [
        "numeros = [1, 2, 3, 4, 5]\n",
        "print(\"Lista original:\", numeros)\n",
        "\n",
        "numeros.append(6)\n",
        "print(\"Lista después de agregar 6:\", numeros)\n"
      ],
      "metadata": {
        "colab": {
          "base_uri": "https://localhost:8080/"
        },
        "id": "-gdict0m4_GM",
        "outputId": "abb84d51-36ed-4554-9639-f29e5ebcdcab"
      },
      "execution_count": null,
      "outputs": [
        {
          "output_type": "stream",
          "name": "stdout",
          "text": [
            "Lista original: [1, 2, 3, 4, 5]\n",
            "Lista después de agregar 6: [1, 2, 3, 4, 5, 6]\n"
          ]
        }
      ]
    },
    {
      "cell_type": "markdown",
      "source": [
        "Ejercicio 3.2: Accede al tercer elemento de la lista y modifícalo para que sea 10."
      ],
      "metadata": {
        "id": "Qkwcccha5Gzf"
      }
    },
    {
      "cell_type": "code",
      "source": [
        "numeros[2] = 10\n",
        "print(\"Lista después de modificar el tercer elemento:\", numeros)\n"
      ],
      "metadata": {
        "colab": {
          "base_uri": "https://localhost:8080/"
        },
        "id": "Dbxejxma5Lf5",
        "outputId": "2b98e616-cf71-4561-9322-3f10d4b434aa"
      },
      "execution_count": null,
      "outputs": [
        {
          "output_type": "stream",
          "name": "stdout",
          "text": [
            "Lista después de modificar el tercer elemento: [1, 2, 10, 4, 5, 6]\n"
          ]
        }
      ]
    },
    {
      "cell_type": "markdown",
      "source": [
        "Ejercicio 4.1: Crea un diccionario que contenga el nombre de una persona como clave y su edad como valor. Imprime el diccionario."
      ],
      "metadata": {
        "id": "EKAN1Quo5flu"
      }
    },
    {
      "cell_type": "code",
      "source": [
        "persona = {\n",
        "    \"nombre\": \"Juan Pérez\",\n",
        "    \"edad\": 30\n",
        "}\n",
        "print(\"Diccionario:\", persona)\n"
      ],
      "metadata": {
        "colab": {
          "base_uri": "https://localhost:8080/"
        },
        "id": "_CegJOuC5i04",
        "outputId": "3b81abd0-3d0b-497c-f9e7-b9e3c06aa21b"
      },
      "execution_count": null,
      "outputs": [
        {
          "output_type": "stream",
          "name": "stdout",
          "text": [
            "Diccionario: {'nombre': 'Juan Pérez', 'edad': 30}\n"
          ]
        }
      ]
    },
    {
      "cell_type": "markdown",
      "source": [
        "Ejercicio 4.2: Agrega una nueva clave al diccionario para almacenar la ciudad en la que vive la persona."
      ],
      "metadata": {
        "id": "9SL4AtpW5oJ7"
      }
    },
    {
      "cell_type": "code",
      "source": [
        "persona[\"ciudad\"] = \"Lima\"\n",
        "print(\"Diccionario actualizado:\", persona)\n"
      ],
      "metadata": {
        "colab": {
          "base_uri": "https://localhost:8080/"
        },
        "id": "tgF35p185wIu",
        "outputId": "121f1468-a0e6-4306-b26a-3af54165f56d"
      },
      "execution_count": null,
      "outputs": [
        {
          "output_type": "stream",
          "name": "stdout",
          "text": [
            "Diccionario actualizado: {'nombre': 'Juan Pérez', 'edad': 30, 'ciudad': 'Lima'}\n"
          ]
        }
      ]
    },
    {
      "cell_type": "markdown",
      "source": [
        "Ejercicio 5.1: Escribe un programa que verifique si un número es positivo, negativo o cero. Imprime el resultado."
      ],
      "metadata": {
        "id": "hKrl6yUi5zkN"
      }
    },
    {
      "cell_type": "code",
      "source": [
        "numero = -5\n",
        "\n",
        "if numero > 0:\n",
        "    print(\"El número es positivo\")\n",
        "elif numero < 0:\n",
        "    print(\"El número es negativo\")\n",
        "else:\n",
        "    print(\"El número es cero\")\n"
      ],
      "metadata": {
        "colab": {
          "base_uri": "https://localhost:8080/"
        },
        "id": "M7yBHtx7561d",
        "outputId": "420b60ac-06bc-4795-a063-7005ba3c1dfb"
      },
      "execution_count": null,
      "outputs": [
        {
          "output_type": "stream",
          "name": "stdout",
          "text": [
            "El número es negativo\n"
          ]
        }
      ]
    },
    {
      "cell_type": "markdown",
      "source": [
        "Ejercicio 6.1: Utiliza un bucle for para imprimir los números del 1 al 10."
      ],
      "metadata": {
        "id": "W4y7WmRC6AfD"
      }
    },
    {
      "cell_type": "code",
      "source": [
        "Ejercicio 6.1: Utiliza un bucle for para imprimir los números del 1 al 10."
      ],
      "metadata": {
        "id": "z5wVwfI36FBV"
      },
      "execution_count": null,
      "outputs": []
    },
    {
      "cell_type": "code",
      "source": [
        "for i in range(1, 11):\n",
        "    print(i)\n"
      ],
      "metadata": {
        "colab": {
          "base_uri": "https://localhost:8080/"
        },
        "id": "A6gh289V6JgE",
        "outputId": "da1318ac-7ba2-49c2-bfc7-25edd1b08d87"
      },
      "execution_count": null,
      "outputs": [
        {
          "output_type": "stream",
          "name": "stdout",
          "text": [
            "1\n",
            "2\n",
            "3\n",
            "4\n",
            "5\n",
            "6\n",
            "7\n",
            "8\n",
            "9\n",
            "10\n"
          ]
        }
      ]
    },
    {
      "cell_type": "markdown",
      "source": [
        "Ejercicio 6.2: Utiliza un bucle while para imprimir los números del 10 al 1."
      ],
      "metadata": {
        "id": "ux9Eczjf6Nu3"
      }
    },
    {
      "cell_type": "code",
      "source": [
        "i = 10\n",
        "while i > 0:\n",
        "    print(i)\n",
        "    i -= 1\n"
      ],
      "metadata": {
        "id": "ELiU0Y536SUF",
        "outputId": "33e35290-b04b-42a7-bea3-4829db757273",
        "colab": {
          "base_uri": "https://localhost:8080/"
        }
      },
      "execution_count": null,
      "outputs": [
        {
          "output_type": "stream",
          "name": "stdout",
          "text": [
            "10\n",
            "9\n",
            "8\n",
            "7\n",
            "6\n",
            "5\n",
            "4\n",
            "3\n",
            "2\n",
            "1\n"
          ]
        }
      ]
    }
  ]
}