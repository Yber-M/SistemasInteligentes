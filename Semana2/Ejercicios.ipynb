{
 "cells": [
  {
   "cell_type": "markdown",
   "metadata": {},
   "source": [
    "#Preudocodigos"
   ]
  },
  {
   "cell_type": "markdown",
   "metadata": {},
   "source": [
    "Ejemplos sencillos de pseudocodigos\n",
    "\n",
    "1.-Hacer un algoritmo que imprima los numeros del 1 al 100\n",
    "\n",
    "2.-Hacer un algoritmo que imprima los numeros del 100 al 0, en orden decreciente.\n",
    "\n",
    "3.-Hacer un algoritmo que imprima los numeros pares entre 0 y 100. \n",
    "\n",
    "4.-Hacer un programa que imprima la suma de los 100 primeros numeros.\n",
    "\n",
    "5.-Hacer un programa que imprima los numeros impares hasta el 100 y que imprima cuantos impares hay.\n",
    "\n",
    "6.-Introducir un numero por teclado. Que nos diga si es par o impar.\n",
    "\n",
    "7.-Imprimir y contar los multiplos de 3 desde la unidad hasta un numero que introducimos por teclado.\n",
    "\n",
    "8.-Hacer un programa que imprima los numeros del 1 al 100. Que calcule la suma de todos los numeros pares por un lado, y por otro, la de todos los impares.\n",
    "\n",
    "9.-Hacer un programa que imprima el mayor y el menor de una serie de cinco numeros que vamos introduciendo por teclado. \n",
    "\n",
    "10.-Imprimir diez veces la serie de numeros del 1 al 10.\n",
    "\n",
    "11.-Hacer un programa que cuente las veces que aparece una determinada letra en una frase que introduciremos por teclado.\n",
    "\n",
    "12.-Crear un algoritmo que calcule la raíz cuadrada del número que introduzca el usuario. Si se introduce un número negativo, debe mostrar un mensaje de error y volver a pedirlo (tantas veces como sea necesario).\n",
    "\n",
    "13.-Escribir un algoritmo que, para cualquier número de segundos inferior a un millón, calcule su equivalente en días, horas, minutos y segundos.\n",
    "\n",
    "14.-Escribir un algoritmo que imprima el mínimo, el máximo y la media de tres números.\n",
    "\n",
    "15.-Escribir un algoritmo que encuentre las raices de una ecuación de segundo grado, si el discriminante es cero que diga que la solución es única y si es menor a cero que diga que el sistema no tiene solución."
   ]
  },
  {
   "cell_type": "code",
   "execution_count": 1,
   "metadata": {
    "collapsed": false
   },
   "outputs": [
    {
     "name": "stdout",
     "output_type": "stream",
     "text": [
      "1\n",
      "2\n",
      "3\n",
      "4\n",
      "5\n",
      "6\n",
      "7\n",
      "8\n",
      "9\n",
      "10\n",
      "11\n",
      "12\n",
      "13\n",
      "14\n",
      "15\n",
      "16\n",
      "17\n",
      "18\n",
      "19\n",
      "20\n",
      "21\n",
      "22\n",
      "23\n",
      "24\n",
      "25\n",
      "26\n",
      "27\n",
      "28\n",
      "29\n",
      "30\n",
      "31\n",
      "32\n",
      "33\n",
      "34\n",
      "35\n",
      "36\n",
      "37\n",
      "38\n",
      "39\n",
      "40\n",
      "41\n",
      "42\n",
      "43\n",
      "44\n",
      "45\n",
      "46\n",
      "47\n",
      "48\n",
      "49\n",
      "50\n",
      "51\n",
      "52\n",
      "53\n",
      "54\n",
      "55\n",
      "56\n",
      "57\n",
      "58\n",
      "59\n",
      "60\n",
      "61\n",
      "62\n",
      "63\n",
      "64\n",
      "65\n",
      "66\n",
      "67\n",
      "68\n",
      "69\n",
      "70\n",
      "71\n",
      "72\n",
      "73\n",
      "74\n",
      "75\n",
      "76\n",
      "77\n",
      "78\n",
      "79\n",
      "80\n",
      "81\n",
      "82\n",
      "83\n",
      "84\n",
      "85\n",
      "86\n",
      "87\n",
      "88\n",
      "89\n",
      "90\n",
      "91\n",
      "92\n",
      "93\n",
      "94\n",
      "95\n",
      "96\n",
      "97\n",
      "98\n",
      "99\n",
      "100\n"
     ]
    }
   ],
   "source": [
    "#Problema 1\n",
    "for i in range(1,101):\n",
    "    print i"
   ]
  },
  {
   "cell_type": "code",
   "execution_count": 22,
   "metadata": {
    "collapsed": false
   },
   "outputs": [
    {
     "name": "stdout",
     "output_type": "stream",
     "text": [
      "100\n",
      "99\n",
      "98\n",
      "97\n",
      "96\n",
      "95\n",
      "94\n",
      "93\n",
      "92\n",
      "91\n",
      "90\n",
      "89\n",
      "88\n",
      "87\n",
      "86\n",
      "85\n",
      "84\n",
      "83\n",
      "82\n",
      "81\n",
      "80\n",
      "79\n",
      "78\n",
      "77\n",
      "76\n",
      "75\n",
      "74\n",
      "73\n",
      "72\n",
      "71\n",
      "70\n",
      "69\n",
      "68\n",
      "67\n",
      "66\n",
      "65\n",
      "64\n",
      "63\n",
      "62\n",
      "61\n",
      "60\n",
      "59\n",
      "58\n",
      "57\n",
      "56\n",
      "55\n",
      "54\n",
      "53\n",
      "52\n",
      "51\n",
      "50\n",
      "49\n",
      "48\n",
      "47\n",
      "46\n",
      "45\n",
      "44\n",
      "43\n",
      "42\n",
      "41\n",
      "40\n",
      "39\n",
      "38\n",
      "37\n",
      "36\n",
      "35\n",
      "34\n",
      "33\n",
      "32\n",
      "31\n",
      "30\n",
      "29\n",
      "28\n",
      "27\n",
      "26\n",
      "25\n",
      "24\n",
      "23\n",
      "22\n",
      "21\n",
      "20\n",
      "19\n",
      "18\n",
      "17\n",
      "16\n",
      "15\n",
      "14\n",
      "13\n",
      "12\n",
      "11\n",
      "10\n",
      "9\n",
      "8\n",
      "7\n",
      "6\n",
      "5\n",
      "4\n",
      "3\n",
      "2\n",
      "1\n",
      "0\n"
     ]
    }
   ],
   "source": [
    "#Problema 2\n",
    "for i in range (0,101):   \n",
    " print 100-i\n"
   ]
  },
  {
   "cell_type": "code",
   "execution_count": 78,
   "metadata": {
    "collapsed": false
   },
   "outputs": [
    {
     "name": "stdout",
     "output_type": "stream",
     "text": [
      "2\n",
      "4\n",
      "6\n",
      "8\n",
      "10\n",
      "12\n",
      "14\n",
      "16\n",
      "18\n",
      "20\n",
      "22\n",
      "24\n",
      "26\n",
      "28\n",
      "30\n",
      "32\n",
      "34\n",
      "36\n",
      "38\n",
      "40\n",
      "42\n",
      "44\n",
      "46\n",
      "48\n",
      "50\n",
      "52\n",
      "54\n",
      "56\n",
      "58\n",
      "60\n",
      "62\n",
      "64\n",
      "66\n",
      "68\n",
      "70\n",
      "72\n",
      "74\n",
      "76\n",
      "78\n",
      "80\n",
      "82\n",
      "84\n",
      "86\n",
      "88\n",
      "90\n",
      "92\n",
      "94\n",
      "96\n",
      "98\n",
      "100\n"
     ]
    }
   ],
   "source": [
    "#problema 3\n",
    "\n",
    "for i in range(2,101):\n",
    "    if i % 2 == 0:\n",
    "    \n",
    "     print i\n",
    "     "
   ]
  },
  {
   "cell_type": "code",
   "execution_count": 27,
   "metadata": {
    "collapsed": false
   },
   "outputs": [
    {
     "name": "stdout",
     "output_type": "stream",
     "text": [
      "Ingrese un número:\n",
      "100\n",
      "5050\n"
     ]
    }
   ],
   "source": [
    "#Problema 4\n",
    "sum=0  \n",
    "Num=int(input(\"Ingrese un número:\\n\"))  \n",
    "for i in range(1,Num+1):  \n",
    " sum=sum+i  \n",
    "print(sum) \n",
    "\n",
    "\n"
   ]
  },
  {
   "cell_type": "code",
   "execution_count": 64,
   "metadata": {
    "collapsed": false
   },
   "outputs": [
    {
     "name": "stdout",
     "output_type": "stream",
     "text": [
      "1\n",
      "3\n",
      "5\n",
      "7\n",
      "9\n",
      "11\n",
      "13\n",
      "15\n",
      "17\n",
      "19\n",
      "21\n",
      "23\n",
      "25\n",
      "27\n",
      "29\n",
      "31\n",
      "33\n",
      "35\n",
      "37\n",
      "39\n",
      "41\n",
      "43\n",
      "45\n",
      "47\n",
      "49\n",
      "51\n",
      "53\n",
      "55\n",
      "57\n",
      "59\n",
      "61\n",
      "63\n",
      "65\n",
      "67\n",
      "69\n",
      "71\n",
      "73\n",
      "75\n",
      "77\n",
      "79\n",
      "81\n",
      "83\n",
      "85\n",
      "87\n",
      "89\n",
      "91\n",
      "93\n",
      "95\n",
      "97\n",
      "99\n",
      "50\n"
     ]
    }
   ],
   "source": [
    "#problema 5\n",
    "n=100\n",
    "l=[]\n",
    "for i in range(0,n):\n",
    "    if i % 2 == 1:\n",
    "        l.append(i)\n",
    "        print i\n",
    "print(len(l))"
   ]
  },
  {
   "cell_type": "code",
   "execution_count": 15,
   "metadata": {
    "collapsed": false
   },
   "outputs": [
    {
     "name": "stdout",
     "output_type": "stream",
     "text": [
      "Ingresa un número. 10\n",
      "Par\n"
     ]
    }
   ],
   "source": [
    "#problema 6\n",
    "\n",
    "\n",
    "k=int(input('Ingresa un número. '))\n",
    "if k % 2 == 0:\n",
    "    print ('Par')\n",
    "else:\n",
    "    if k % 2 == 1:\n",
    "        print ('Impar')\n",
    "     "
   ]
  },
  {
   "cell_type": "code",
   "execution_count": 16,
   "metadata": {
    "collapsed": false
   },
   "outputs": [
    {
     "name": "stdout",
     "output_type": "stream",
     "text": [
      "Ingresa un número: 10\n",
      "0\n",
      "1\n",
      "3\n",
      "2\n",
      "6\n",
      "3\n",
      "9\n",
      "4\n"
     ]
    }
   ],
   "source": [
    "#Problema 7\n",
    "n=int(input('Ingresa un número: '))\n",
    "l=[]\n",
    "for i in range(0,n):\n",
    "    if i % 3 == 0:\n",
    "        l.append(i)\n",
    "        print i\n",
    "        print(len(l))"
   ]
  },
  {
   "cell_type": "code",
   "execution_count": 10,
   "metadata": {
    "collapsed": false
   },
   "outputs": [
    {
     "name": "stdout",
     "output_type": "stream",
     "text": [
      "1 2 3 4 5 6 7 8 9 10 11 12 13 14 15 16 17 18 19 20 21 22 23 24 25 26 27 28 29 30 31 32 33 34 35 36 37 38 39 40 41 42 43 44 45 46 47 48 49 50 51 52 53 54 55 56 57 58 59 60 61 62 63 64 65 66 67 68 69 70 71 72 73 74 75 76 77 78 79 80 81 82 83 84 85 86 87 88 89 90 91 92 93 94 95 96 97 98 99 100 \n",
      "La suma de los pares es igual a 2550\n",
      "La suma de los impares es igual a 2500\n"
     ]
    }
   ],
   "source": [
    "#Problema 8\n",
    "n = 1\n",
    "p = 0\n",
    "i = 0\n",
    "while n <= 100:\n",
    "    print n,\n",
    "    if n%2 == 0:\n",
    "        p += n\n",
    "    else:\n",
    "        i += n\n",
    "    n += 1\n",
    "\n",
    "print ('\\nLa suma de los pares es igual a %i' % p)\n",
    "\n",
    "print ('La suma de los impares es igual a %i' % i)"
   ]
  },
  {
   "cell_type": "code",
   "execution_count": 61,
   "metadata": {
    "collapsed": false
   },
   "outputs": [
    {
     "ename": "IndentationError",
     "evalue": "unindent does not match any outer indentation level (<ipython-input-61-2a96c0d41471>, line 10)",
     "output_type": "error",
     "traceback": [
      "\u001b[1;36m  File \u001b[1;32m\"<ipython-input-61-2a96c0d41471>\"\u001b[1;36m, line \u001b[1;32m10\u001b[0m\n\u001b[1;33m    else:\u001b[0m\n\u001b[1;37m         ^\u001b[0m\n\u001b[1;31mIndentationError\u001b[0m\u001b[1;31m:\u001b[0m unindent does not match any outer indentation level\n"
     ]
    }
   ],
   "source": [
    "#Problema 9\n",
    "a=int(input(\"Escribe un número\\n \"))  \n",
    "b=int(input(\"Escribe un número\\n \"))  \n",
    "c=int(input(\"Escribe un número\\n \"))  \n",
    "d=int(input(\"Escribe un número\\n \")) \n",
    "e=int(input(\"Escribe un número\\n \"))\n",
    "\n",
    "if (a > b and a > c and a > d and a > e):\n",
    "    x= a\n",
    " else:\n",
    "if (b > a and b > c and b > d and b > e):\n",
    "x= b\n",
    "else:\n",
    "    if(c > a and c > b and c > d and c > e):\n",
    "        x=c\n",
    "else:\n",
    "     if (d > a and d > b and d > c and a > e):\n",
    "        x=d\n",
    "else:                          \n",
    "      x=e\n",
    "else:\n",
    "if (a < b and a < c and a < d and < e):\n",
    "    y=a\n",
    "    else:\n",
    "        \n",
    "        if (b < a and b < c and b < d and b < e):\n",
    "            y=b\n",
    "            else:\n",
    "                if(c < a and c < b and c < d and c < e):\n",
    "                    y=c\n",
    "                    else:\n",
    "                        if (d < a and d < b and d < d and d < e):\n",
    "                            y=d\n",
    "                            else:\n",
    "                                y=e\n",
    "                                    \n",
    "                                    print(\"el mayor es \"+str(x)+\" y el menor es \"+str(y)) \n",
    "\n"
   ]
  },
  {
   "cell_type": "code",
   "execution_count": 64,
   "metadata": {
    "collapsed": false
   },
   "outputs": [
    {
     "name": "stdout",
     "output_type": "stream",
     "text": [
      "1, 2 , 3, 4, 5, 6, 7, 8, 9, 10\n",
      "1, 2 , 3, 4, 5, 6, 7, 8, 9, 10\n",
      "1, 2 , 3, 4, 5, 6, 7, 8, 9, 10\n",
      "1, 2 , 3, 4, 5, 6, 7, 8, 9, 10\n",
      "1, 2 , 3, 4, 5, 6, 7, 8, 9, 10\n",
      "1, 2 , 3, 4, 5, 6, 7, 8, 9, 10\n",
      "1, 2 , 3, 4, 5, 6, 7, 8, 9, 10\n",
      "1, 2 , 3, 4, 5, 6, 7, 8, 9, 10\n",
      "1, 2 , 3, 4, 5, 6, 7, 8, 9, 10\n",
      "1, 2 , 3, 4, 5, 6, 7, 8, 9, 10\n"
     ]
    }
   ],
   "source": [
    "#problema 10\n",
    "print (\"1, 2 , 3, 4, 5, 6, 7, 8, 9, 10\")\n",
    "print (\"1, 2 , 3, 4, 5, 6, 7, 8, 9, 10\")\n",
    "print (\"1, 2 , 3, 4, 5, 6, 7, 8, 9, 10\")\n",
    "print (\"1, 2 , 3, 4, 5, 6, 7, 8, 9, 10\")\n",
    "print (\"1, 2 , 3, 4, 5, 6, 7, 8, 9, 10\")\n",
    "print (\"1, 2 , 3, 4, 5, 6, 7, 8, 9, 10\")\n",
    "print (\"1, 2 , 3, 4, 5, 6, 7, 8, 9, 10\")\n",
    "print (\"1, 2 , 3, 4, 5, 6, 7, 8, 9, 10\")\n",
    "print (\"1, 2 , 3, 4, 5, 6, 7, 8, 9, 10\")\n",
    "print (\"1, 2 , 3, 4, 5, 6, 7, 8, 9, 10\")"
   ]
  },
  {
   "cell_type": "code",
   "execution_count": 94,
   "metadata": {
    "collapsed": true
   },
   "outputs": [],
   "source": [
    "#problema 11\n",
    "def contar(x):\n",
    "    contador = 0\n",
    "    for letra in x:\n",
    "        if letra == \"a\":\n",
    "            contador = contador + 1\n",
    "    return(contador)"
   ]
  },
  {
   "cell_type": "code",
   "execution_count": 105,
   "metadata": {
    "collapsed": false
   },
   "outputs": [
    {
     "ename": "KeyboardInterrupt",
     "evalue": "",
     "output_type": "error",
     "traceback": [
      "\u001b[1;31m---------------------------------------------------------------------------\u001b[0m",
      "\u001b[1;31mKeyboardInterrupt\u001b[0m                         Traceback (most recent call last)",
      "\u001b[1;32m<ipython-input-105-949850c45206>\u001b[0m in \u001b[0;36m<module>\u001b[1;34m()\u001b[0m\n\u001b[0;32m      1\u001b[0m \u001b[1;31m#problema 12\u001b[0m\u001b[1;33m\u001b[0m\u001b[1;33m\u001b[0m\u001b[0m\n\u001b[0;32m      2\u001b[0m \u001b[1;32mimport\u001b[0m \u001b[0mmath\u001b[0m\u001b[1;33m\u001b[0m\u001b[0m\n\u001b[1;32m----> 3\u001b[1;33m \u001b[0mnumero\u001b[0m\u001b[1;33m=\u001b[0m\u001b[0mraw_input\u001b[0m\u001b[1;33m(\u001b[0m\u001b[1;34m\"Ingrese numero: \"\u001b[0m\u001b[1;33m)\u001b[0m\u001b[1;33m\u001b[0m\u001b[0m\n\u001b[0m\u001b[0;32m      4\u001b[0m \u001b[0mraiz\u001b[0m\u001b[1;33m=\u001b[0m\u001b[0mmath\u001b[0m\u001b[1;33m.\u001b[0m\u001b[0msqrt\u001b[0m\u001b[1;33m(\u001b[0m\u001b[0mnumero\u001b[0m\u001b[1;33m)\u001b[0m\u001b[1;33m\u001b[0m\u001b[0m\n\u001b[0;32m      5\u001b[0m \u001b[1;32mprint\u001b[0m \u001b[0mraiz\u001b[0m\u001b[1;33m\u001b[0m\u001b[0m\n",
      "\u001b[1;32m/projects/sage/sage-6.9/local/lib/python2.7/site-packages/ipykernel/kernelbase.py\u001b[0m in \u001b[0;36mraw_input\u001b[1;34m(self, prompt)\u001b[0m\n\u001b[0;32m    657\u001b[0m             \u001b[0mself\u001b[0m\u001b[1;33m.\u001b[0m\u001b[0m_parent_ident\u001b[0m\u001b[1;33m,\u001b[0m\u001b[1;33m\u001b[0m\u001b[0m\n\u001b[0;32m    658\u001b[0m             \u001b[0mself\u001b[0m\u001b[1;33m.\u001b[0m\u001b[0m_parent_header\u001b[0m\u001b[1;33m,\u001b[0m\u001b[1;33m\u001b[0m\u001b[0m\n\u001b[1;32m--> 659\u001b[1;33m             \u001b[0mpassword\u001b[0m\u001b[1;33m=\u001b[0m\u001b[0mFalse\u001b[0m\u001b[1;33m,\u001b[0m\u001b[1;33m\u001b[0m\u001b[0m\n\u001b[0m\u001b[0;32m    660\u001b[0m         )\n\u001b[0;32m    661\u001b[0m \u001b[1;33m\u001b[0m\u001b[0m\n",
      "\u001b[1;32m/projects/sage/sage-6.9/local/lib/python2.7/site-packages/ipykernel/kernelbase.py\u001b[0m in \u001b[0;36m_input_request\u001b[1;34m(self, prompt, ident, parent, password)\u001b[0m\n\u001b[0;32m    687\u001b[0m             \u001b[1;32mexcept\u001b[0m \u001b[0mKeyboardInterrupt\u001b[0m\u001b[1;33m:\u001b[0m\u001b[1;33m\u001b[0m\u001b[0m\n\u001b[0;32m    688\u001b[0m                 \u001b[1;31m# re-raise KeyboardInterrupt, to truncate traceback\u001b[0m\u001b[1;33m\u001b[0m\u001b[1;33m\u001b[0m\u001b[0m\n\u001b[1;32m--> 689\u001b[1;33m                 \u001b[1;32mraise\u001b[0m \u001b[0mKeyboardInterrupt\u001b[0m\u001b[1;33m\u001b[0m\u001b[0m\n\u001b[0m\u001b[0;32m    690\u001b[0m             \u001b[1;32melse\u001b[0m\u001b[1;33m:\u001b[0m\u001b[1;33m\u001b[0m\u001b[0m\n\u001b[0;32m    691\u001b[0m                 \u001b[1;32mbreak\u001b[0m\u001b[1;33m\u001b[0m\u001b[0m\n",
      "\u001b[1;31mKeyboardInterrupt\u001b[0m: "
     ]
    }
   ],
   "source": [
    "#problema 12\n",
    "Proceso Raiz\n",
    " \n",
    "  Repetir\n",
    "    Escribir \"Dime un numero\";\n",
    "    Leer x;\n",
    "    Si x < 0 Entonces\n",
    "      Escribir \"No puede ser negativo\";\n",
    "    FinSi\n",
    "  Hasta Que x >= 0\n",
    " \n",
    "  Escribir \"Su raiz es \", rc(x);\n",
    " \n",
    "FinProceso \n",
    " \n"
   ]
  },
  {
   "cell_type": "code",
   "execution_count": null,
   "metadata": {
    "collapsed": true
   },
   "outputs": [],
   "source": [
    " #Problema 13 algoritmo\n",
    "1 minuto = 60 segundos.\n",
    "1 hora = 60 minutos = 3600 segundos.\n",
    "1 dia = 24 horas = 1440 minutos = 86400 segundos.\n",
    "\n",
    "# Pedimos datos.\n",
    "dato = raw_input(u'Número de segundos: ')\n",
    "\n",
    "# Hacemos un cast, convirtiendo la cadena en un número largo.\n",
    "dato = long(dato)\n",
    "\n",
    "# Comprobamos si el número introducido es menor a un millón.\n",
    "if dato >= 1000000:\n",
    "    print \"El número debe de ser menor a 1000000\"\n",
    "else:\n",
    "    # Días.\n",
    "    ndias, aux = divmod(dato, 86400)\n",
    "    # Horas.\n",
    "    nhoras, aux = divmod(aux, 3600)\n",
    "    # Minutos y segundos.\n",
    "    nmin, nseg = divmod(aux, 60)\n",
    "    # Mostramos resultado.\n",
    "    print '%d días, %d horas, %d minutos, %d segundos' % \\  (ndias, nhoras, nmin, nseg)"
   ]
  },
  {
   "cell_type": "code",
   "execution_count": null,
   "metadata": {
    "collapsed": true
   },
   "outputs": [],
   "source": [
    "#problema 14\n",
    "# Obtenemos números.\n",
    "numeros = []\n",
    "for i in ['primer', 'segundo','tercer']:\n",
    "    texto = u'Introduce el %s número: ' % (i)\n",
    "    numeros.append(float(raw_input(texto)))\n",
    "\n",
    "# Ordenamos.\n",
    "numeros.sort()\n",
    "\n",
    "# Obtenemos máximo y mínimo.\n",
    "minimo = numeros[0]\n",
    "maximo = numeros[2]\n",
    "\n",
    "# Obtenemos la media aritmética.\n",
    "media = round((numeros[0] + numeros[1] + numeros[2]) / float(3),3)\n",
    "\n",
    "# Visualizamos resultados.\n",
    "cadena = u'Mínimo: %d, Máximo: %d, Media: %f' % (minimo, maximo, media)\n",
    "print cadena\n"
   ]
  },
  {
   "cell_type": "code",
   "execution_count": null,
   "metadata": {
    "collapsed": false
   },
   "outputs": [],
   "source": [
    "#Problema 15\n",
    "\n",
    "import math  \n",
    "a=int(input(\"ingresa coeficiente cuadratico\\n\"))  \n",
    "b=int(input(\"ingresa coeficiente lineal\\n\"))  \n",
    "c=int(input(\"ingresa constante\\n\"))  \n",
    "disc=b*b-4*a*c  \n",
    "if(a!=0):  \n",
    " if(disc<0):  \n",
    "  print(\"tiene raices imaginarias\")  \n",
    " else:  \n",
    "  x1=(-b+(math.sqrt(disc)))/(2*a)  \n",
    "  x2=(-b-(math.sqrt(disc)))/(2*a)  \n",
    "  print(\"X1 = \"+str(x1)+\" X2 = \"+str(x2))  \n",
    "else:  \n",
    " print(\"coefiente cuadratico debe ser diferente de cero\")  "
   ]
  },
  {
   "cell_type": "code",
   "execution_count": null,
   "metadata": {
    "collapsed": true
   },
   "outputs": [],
   "source": []
  }
 ],
 "metadata": {
  "kernelspec": {
   "display_name": "Python 2",
   "language": "python",
   "name": "python2"
  },
  "language_info": {
   "codemirror_mode": {
    "name": "ipython",
    "version": 2
   },
   "file_extension": ".py",
   "mimetype": "text/x-python",
   "name": "python",
   "nbconvert_exporter": "python",
   "pygments_lexer": "ipython2",
   "version": "2.7.9"
  },
  "name": "Ejercicios.ipynb"
 },
 "nbformat": 4,
 "nbformat_minor": 0
}
